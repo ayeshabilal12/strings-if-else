{
 "cells": [
  {
   "cell_type": "markdown",
   "id": "1c35c79e-634d-422d-81b7-e1da18963d06",
   "metadata": {},
   "source": [
    "## Assignment 1"
   ]
  },
  {
   "cell_type": "code",
   "execution_count": 2,
   "id": "e928b64a-b860-447b-a943-c881ed3f07ea",
   "metadata": {},
   "outputs": [],
   "source": [
    "salaries = ['20k', '40k', '50k', '60k', '35k', '89k', '40k']"
   ]
  },
  {
   "cell_type": "markdown",
   "id": "3982d999-cc0d-47b7-9417-ae619b01448c",
   "metadata": {},
   "source": [
    "#### 1. What is the length of the salaries list?"
   ]
  },
  {
   "cell_type": "code",
   "execution_count": null,
   "id": "99d72135-869c-4c5b-9992-b3602e2bc2ec",
   "metadata": {},
   "outputs": [],
   "source": [
    "7"
   ]
  },
  {
   "cell_type": "markdown",
   "id": "59683c3a-b41b-470c-8f89-566e16428d22",
   "metadata": {},
   "source": [
    "#### 2. Retrieve the third salary in the list by using index."
   ]
  },
  {
   "cell_type": "code",
   "execution_count": 11,
   "id": "03d9e841-7205-4c8f-9346-9ecd2062ea23",
   "metadata": {},
   "outputs": [
    {
     "data": {
      "text/plain": [
       "'50k'"
      ]
     },
     "execution_count": 11,
     "metadata": {},
     "output_type": "execute_result"
    }
   ],
   "source": [
    "salaries [2]"
   ]
  },
  {
   "cell_type": "markdown",
   "id": "cf63a6b6-9e23-420b-b379-73a5f6002e3d",
   "metadata": {},
   "source": [
    "#### 3. Extract the last salary from the list by using a negative index."
   ]
  },
  {
   "cell_type": "code",
   "execution_count": 14,
   "id": "13b0a634-3a91-4c63-a404-b883d6a5da27",
   "metadata": {},
   "outputs": [
    {
     "data": {
      "text/plain": [
       "'40k'"
      ]
     },
     "execution_count": 14,
     "metadata": {},
     "output_type": "execute_result"
    }
   ],
   "source": [
    "salaries [-1]"
   ]
  },
  {
   "cell_type": "markdown",
   "id": "3d18f274-b39e-4f19-8a37-61a64b94d4ed",
   "metadata": {},
   "source": [
    "#### 4. Slice the salaries list to get only the middle three salaries."
   ]
  },
  {
   "cell_type": "code",
   "execution_count": 19,
   "id": "e7dd3023-9025-43e7-9c23-f984a87902c5",
   "metadata": {},
   "outputs": [
    {
     "data": {
      "text/plain": [
       "['50k', '60k', '35k']"
      ]
     },
     "execution_count": 19,
     "metadata": {},
     "output_type": "execute_result"
    }
   ],
   "source": [
    "salaries [2:5]"
   ]
  },
  {
   "cell_type": "markdown",
   "id": "9a887ad8-fcf5-4b9b-9b2b-ef5232544775",
   "metadata": {},
   "source": [
    "#### 5. Add a new salary to the list, ‘100k’ by using append() method."
   ]
  },
  {
   "cell_type": "code",
   "execution_count": 29,
   "id": "ca58f4a1-a7ee-4f53-b448-e915fb3d2346",
   "metadata": {},
   "outputs": [],
   "source": [
    "salaries.append('100k')"
   ]
  },
  {
   "cell_type": "code",
   "execution_count": 45,
   "id": "3e783281-d818-4bf0-bfc7-f788e24c38d6",
   "metadata": {},
   "outputs": [
    {
     "data": {
      "text/plain": [
       "['20k', '40k', '50k', '60k', '35k', '89k', '40k', '100k']"
      ]
     },
     "execution_count": 45,
     "metadata": {},
     "output_type": "execute_result"
    }
   ],
   "source": [
    "salaries"
   ]
  },
  {
   "cell_type": "markdown",
   "id": "8cb0990e-b0fd-4740-8daa-c02c4b033bba",
   "metadata": {},
   "source": [
    "#### 5. Add a new salary to the list, ‘120k’ without method."
   ]
  },
  {
   "cell_type": "code",
   "execution_count": 49,
   "id": "3a562e09-7fac-44c7-8500-dd55b7b5249c",
   "metadata": {},
   "outputs": [],
   "source": [
    "salaries = salaries + ['120k']"
   ]
  },
  {
   "cell_type": "code",
   "execution_count": 51,
   "id": "fd33e1e8-134a-43f0-87de-a4e6d0f64da5",
   "metadata": {},
   "outputs": [
    {
     "data": {
      "text/plain": [
       "['20k', '40k', '50k', '60k', '35k', '89k', '40k', '100k', '120k']"
      ]
     },
     "execution_count": 51,
     "metadata": {},
     "output_type": "execute_result"
    }
   ],
   "source": [
    "salaries"
   ]
  },
  {
   "cell_type": "markdown",
   "id": "ed4f8849-e2ae-4b56-86b1-e4a4b94f457c",
   "metadata": {},
   "source": [
    "#### 6. Replace the third salary in the list with '55k' and print the updated list."
   ]
  },
  {
   "cell_type": "code",
   "execution_count": 54,
   "id": "5f703159-308e-4419-bfb6-1a58560f2dcb",
   "metadata": {},
   "outputs": [
    {
     "name": "stdout",
     "output_type": "stream",
     "text": [
      "['20k', '40k', '55k', '60k', '35k', '89k', '40k', '100k', '120k']\n"
     ]
    }
   ],
   "source": [
    "salaries [2] = '55k'\n",
    "print(salaries)"
   ]
  },
  {
   "cell_type": "markdown",
   "id": "8eb927ab-b43c-4a5b-8a3d-86e3f38bc53a",
   "metadata": {},
   "source": [
    "#### 7. Count how many times '40k' appears in the list."
   ]
  },
  {
   "cell_type": "code",
   "execution_count": 57,
   "id": "63f29fad-20d8-43ff-8680-c97224005478",
   "metadata": {
    "jupyter": {
     "source_hidden": true
    }
   },
   "outputs": [
    {
     "data": {
      "text/plain": [
       "2"
      ]
     },
     "execution_count": 57,
     "metadata": {},
     "output_type": "execute_result"
    }
   ],
   "source": [
    "salaries.count('40k')"
   ]
  },
  {
   "cell_type": "markdown",
   "id": "b7741339-c791-4cbb-9850-a3366239fca4",
   "metadata": {},
   "source": [
    "#### 8. Insert a new salary at the second position."
   ]
  },
  {
   "cell_type": "code",
   "execution_count": 60,
   "id": "ab24eec2-d806-4a3a-869d-01f8281b9b66",
   "metadata": {},
   "outputs": [],
   "source": [
    "salaries.insert(1, '54k')"
   ]
  },
  {
   "cell_type": "code",
   "execution_count": 62,
   "id": "ff43ce91-e10f-4052-9de8-aa6c3b1625e9",
   "metadata": {},
   "outputs": [
    {
     "data": {
      "text/plain": [
       "['20k', '54k', '40k', '55k', '60k', '35k', '89k', '40k', '100k', '120k']"
      ]
     },
     "execution_count": 62,
     "metadata": {},
     "output_type": "execute_result"
    }
   ],
   "source": [
    "salaries"
   ]
  },
  {
   "cell_type": "markdown",
   "id": "506fff25-7e8e-4ba0-a70e-9a751a82b777",
   "metadata": {},
   "source": [
    "#### 9. Reverse the order of the salaries list with method."
   ]
  },
  {
   "cell_type": "code",
   "execution_count": 73,
   "id": "132081d3-8e67-406f-9601-a02ee06829fa",
   "metadata": {},
   "outputs": [
    {
     "name": "stdout",
     "output_type": "stream",
     "text": [
      "['120k', '100k', '40k', '89k', '35k', '60k', '55k', '40k', '54k', '20k']\n"
     ]
    }
   ],
   "source": [
    "salaries.reverse()\n",
    "print(salaries)"
   ]
  },
  {
   "cell_type": "markdown",
   "id": "d4af3c5b-ac51-4ebc-a9d6-c988baf505f9",
   "metadata": {},
   "source": [
    "#### 10. Reverse the order of the salaries list without method."
   ]
  },
  {
   "cell_type": "code",
   "execution_count": 80,
   "id": "bf52dbda-3ba8-407c-8ec7-cfe23b1a4cc9",
   "metadata": {},
   "outputs": [
    {
     "data": {
      "text/plain": [
       "['20k', '54k', '40k', '55k', '60k', '35k', '89k', '40k', '100k', '120k']"
      ]
     },
     "execution_count": 80,
     "metadata": {},
     "output_type": "execute_result"
    }
   ],
   "source": [
    "salaries [::-1]"
   ]
  },
  {
   "cell_type": "code",
   "execution_count": null,
   "id": "305ab74d-01ff-4c33-a117-c2ae3412f716",
   "metadata": {},
   "outputs": [],
   "source": []
  }
 ],
 "metadata": {
  "kernelspec": {
   "display_name": "Python 3 (ipykernel)",
   "language": "python",
   "name": "python3"
  },
  "language_info": {
   "codemirror_mode": {
    "name": "ipython",
    "version": 3
   },
   "file_extension": ".py",
   "mimetype": "text/x-python",
   "name": "python",
   "nbconvert_exporter": "python",
   "pygments_lexer": "ipython3",
   "version": "3.12.7"
  }
 },
 "nbformat": 4,
 "nbformat_minor": 5
}
