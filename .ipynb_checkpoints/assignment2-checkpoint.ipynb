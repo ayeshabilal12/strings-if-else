{
 "cells": [
  {
   "cell_type": "markdown",
   "id": "a0d35bc5-0d16-4f21-9d8b-42cd3e282c69",
   "metadata": {},
   "source": [
    "## Assignment 2"
   ]
  },
  {
   "cell_type": "markdown",
   "id": "a1a7c9aa-a7c8-42f7-b0fc-25e4d74d9af2",
   "metadata": {},
   "source": [
    "#### Question 1: Age Group Classification"
   ]
  },
  {
   "cell_type": "code",
   "execution_count": 10,
   "id": "de54dc05-ef9b-4773-9478-99da5fd53bb9",
   "metadata": {},
   "outputs": [
    {
     "name": "stdin",
     "output_type": "stream",
     "text": [
      "Enter your age:  69\n"
     ]
    },
    {
     "name": "stdout",
     "output_type": "stream",
     "text": [
      "Your age is  69 .\n",
      "You are a senior\n"
     ]
    }
   ],
   "source": [
    "age = int (input(\"Enter your age: \"))\n",
    "print(\"Your age is \", age, \".\")\n",
    "\n",
    "if age >= 0 and age <= 12:\n",
    "    print (\"You are a child. \")\n",
    "elif age >= 19 and age <= 13:\n",
    "    print (\"You are a teenager. \")\n",
    "elif age >= 20 and age <= 64:\n",
    "    print (\"You are an adult. \")\n",
    "else:\n",
    "    print (\"You are a senior\")"
   ]
  },
  {
   "cell_type": "markdown",
   "id": "6b120d46-bc1c-4b6c-9a79-b111badc7f00",
   "metadata": {},
   "source": [
    "#### Question 2: Checking for Eligibility for Discount"
   ]
  },
  {
   "cell_type": "code",
   "execution_count": 17,
   "id": "bea51f79-2696-4696-87f1-a7e65edca83d",
   "metadata": {},
   "outputs": [
    {
     "name": "stdin",
     "output_type": "stream",
     "text": [
      "Enter your Membership Status:  Premium\n",
      "Enter your purchased amount: 784\n"
     ]
    },
    {
     "name": "stdout",
     "output_type": "stream",
     "text": [
      "You are not eligible for discount.\n"
     ]
    }
   ],
   "source": [
    "member_status = input (\"Enter your Membership Status: \")\n",
    "purchase_amount = int(input(\"Enter your purchased amount:\"))\n",
    "\n",
    "if member_status == \"Premium\" and purchase_amount >= 1000:\n",
    "    print (\"Eligible for discount.\")\n",
    "elif member_status == \"Regular\" and purchase_amount >= 2000:\n",
    "    print (\"Eligible for discount.\")\n",
    "else:\n",
    "    print(\"You are not eligible for discount.\")"
   ]
  },
  {
   "cell_type": "markdown",
   "id": "7a29cc3f-6361-458c-a02a-e8c5ff92f48a",
   "metadata": {},
   "source": [
    "#### Question 3: Voting Eligibility Check"
   ]
  },
  {
   "cell_type": "code",
   "execution_count": 21,
   "id": "c1e17662-b5f6-469d-a138-d54a46ba86a8",
   "metadata": {},
   "outputs": [
    {
     "name": "stdin",
     "output_type": "stream",
     "text": [
      "Enter your age:  18\n",
      "Enter your citizenship status:  special region\n"
     ]
    },
    {
     "name": "stdout",
     "output_type": "stream",
     "text": [
      "Eligible to vote.\n"
     ]
    }
   ],
   "source": [
    "age = int(input(\"Enter your age: \"))\n",
    "ctzn = str(input(\"Enter your citizenship status: \"))\n",
    "\n",
    "if age >= 18 and ctzn == \"citizen\":\n",
    "    print(\"Eligible to vote.\")\n",
    "elif age >= 18 and ctzn == \"citizen\":\n",
    "    print(\"Eligible to vote.\")\n",
    "elif age >= 16 and ctzn == \"special region\":\n",
    "    print(\"Eligible to vote.\")\n",
    "else:\n",
    "    print(\"Not eligible to vote.\")"
   ]
  },
  {
   "cell_type": "markdown",
   "id": "fb3771a0-6e4f-4814-a4b6-b3fdf7d36f6a",
   "metadata": {},
   "source": [
    "#### Question 4: Employee Salary Bonus Eligibility"
   ]
  },
  {
   "cell_type": "code",
   "execution_count": 1,
   "id": "60670a45-fec4-420d-b5c5-ae463fb44506",
   "metadata": {},
   "outputs": [
    {
     "name": "stdin",
     "output_type": "stream",
     "text": [
      "Enter your work performance:  Good\n",
      "Enter your years of service:  9\n"
     ]
    },
    {
     "name": "stdout",
     "output_type": "stream",
     "text": [
      "Not eligible for bonus.\n"
     ]
    }
   ],
   "source": [
    "performance = str (input(\"Enter your work performance: \"))\n",
    "years_of_service = int(input(\"Enter your years of service: \"))\n",
    "\n",
    "if performance == \"Excellent\" and years_of_service >= 5:\n",
    "    print(\"Eligible for bonus.\")\n",
    "elif performance == \"Good\" and years_of_service >= 10:\n",
    "    print(\"Eligible for bonus.\")\n",
    "elif performance == \"Satisfactory\" and years_of_service >= 15:\n",
    "    print(\"Eligible for bonus.\")\n",
    "else:\n",
    "    print(\"Not eligible for bonus.\")"
   ]
  },
  {
   "cell_type": "markdown",
   "id": "81987b48-c2be-41c1-99b8-ec191b4219fa",
   "metadata": {},
   "source": [
    "#### Question 5.\n",
    "##### Write a program that replaces spaces with underscores, counts how many underscores are there, and finds the position of the first underscore."
   ]
  },
  {
   "cell_type": "code",
   "execution_count": 27,
   "id": "54d9c1ed-03e0-4680-9bf3-63e6a99ebd23",
   "metadata": {},
   "outputs": [
    {
     "name": "stdout",
     "output_type": "stream",
     "text": [
      "I'm_learning_Python_programming\n",
      "The number of underscores in the text is  3\n",
      "The position of the first underscore is  3\n"
     ]
    }
   ],
   "source": [
    "text =\"I'm learning Python programming\"\n",
    "dup_text = text.replace(\" \", \"_\")\n",
    "print (dup_text)\n",
    "count = dup_text.count(\"_\")\n",
    "print(\"The number of underscores in the text is \", count)\n",
    "position = dup_text.find(\"_\")\n",
    "print(\"The position of the first underscore is \", position)"
   ]
  },
  {
   "cell_type": "markdown",
   "id": "4a2b64a8-4c06-472c-a374-d8df617e7911",
   "metadata": {},
   "source": [
    "#### Question 6: \n",
    "##### •\tTakes a string as input.\n",
    "##### •\tPrints all characters of the string except the last 3 using slicing.\n",
    "##### •\tPrints every second character of the string using slicing.\n",
    "##### •\tPrints the string in reverse using slicing\n"
   ]
  },
  {
   "cell_type": "code",
   "execution_count": 49,
   "id": "3d3fa873-dca0-4744-b929-e70cb724f4f0",
   "metadata": {},
   "outputs": [
    {
     "name": "stdin",
     "output_type": "stream",
     "text": [
      "Enter a string:  this is the second assignment\n"
     ]
    },
    {
     "name": "stdout",
     "output_type": "stream",
     "text": [
      "this is the second assignm\n",
      "ti stescn sinet\n",
      "tnemngissa dnoces eht si siht\n"
     ]
    }
   ],
   "source": [
    "user_text = str(input(\"Enter a string: \"))\n",
    "\n",
    "last3_words = user_text [:-3]\n",
    "print(last3_words)\n",
    "second_character = user_text [::2]\n",
    "print(second_character)\n",
    "reverse_text = user_text [::-1]\n",
    "print(reverse_text)"
   ]
  },
  {
   "cell_type": "markdown",
   "id": "63a53e56-2942-4a96-8374-4d11e986f9c7",
   "metadata": {},
   "source": [
    "#### Question 7. Given a sentence, you need to reverse the order of the words in the sentence while preserving their original capitalization and spaces."
   ]
  },
  {
   "cell_type": "code",
   "execution_count": 1,
   "id": "ea41099c-c9a7-4c4c-8285-88c7071b0220",
   "metadata": {},
   "outputs": [
    {
     "name": "stdout",
     "output_type": "stream",
     "text": [
      ".nohtyP gninrael era eW ,dlroW olleH\n"
     ]
    }
   ],
   "source": [
    "text = \"Hello World, We are learning Python.\"\n",
    "sort_text = text [::-1]\n",
    "print(sort_text)"
   ]
  },
  {
   "cell_type": "markdown",
   "id": "b74dee30-6c45-48f0-8453-349227c7707c",
   "metadata": {},
   "source": [
    "#### Question 8. \n",
    "##### You have a product code that follows the format &quot;SKU-12345-XYZ&quot;. You need to:\n",
    "##### Remove the &quot;SKU-&quot; and the &quot;-XYZ&quot; from the product code. Extract and return the number"
   ]
  },
  {
   "cell_type": "code",
   "execution_count": 4,
   "id": "35a724fc-ef96-43ab-811b-b483087dc0f1",
   "metadata": {},
   "outputs": [
    {
     "name": "stdout",
     "output_type": "stream",
     "text": [
      "12345\n"
     ]
    }
   ],
   "source": [
    "product_code = \"SKU-12345-XYZ\"\n",
    "number = product_code.replace(\"SKU-\", \"\").replace(\"-XYZ\",\"\")\n",
    "print(number)"
   ]
  },
  {
   "cell_type": "markdown",
   "id": "d3ee2690-5952-4fc9-b57a-97dcb1cdd783",
   "metadata": {},
   "source": [
    "#### Question 9.\n",
    "##### Write a Python program to check user password has following:\n",
    "##### Whether the string contains any uppercase characters. Whether the string contains any lowercase characters. Whether the string contains any spaces. Whether the string contains any special characters (anything other than letters, digits, and spaces)."
   ]
  },
  {
   "cell_type": "code",
   "execution_count": 44,
   "id": "5a6fb51a-4135-4f86-8c07-80e1a422a41c",
   "metadata": {},
   "outputs": [
    {
     "name": "stdin",
     "output_type": "stream",
     "text": [
      "Enter a password:  World12345@\n"
     ]
    },
    {
     "name": "stdout",
     "output_type": "stream",
     "text": [
      "Password Check Results:\n",
      "Contains uppercase: True\n",
      "Contains lowercase: True\n",
      "Contains spaces: False\n",
      "Contains special characters: True\n"
     ]
    }
   ],
   "source": [
    "import string\n",
    "\n",
    "def check_password(password):\n",
    "    print(\"Password Check Results:\")\n",
    "    print(f\"Contains uppercase: {any(char.isupper() for char in password)}\")\n",
    "    print(f\"Contains lowercase: {any(char.islower() for char in password)}\")\n",
    "    print(f\"Contains spaces: {any(char.isspace() for char in password)}\")\n",
    "    print(f\"Contains special characters: {any(char not in string.ascii_letters + string.digits + ' ' for char in password)}\")\n",
    "\n",
    "password = input(\"Enter a password: \")\n",
    "check_password(password)"
   ]
  },
  {
   "cell_type": "markdown",
   "id": "cf9fe439-ae3f-49a8-a501-59a588f1d598",
   "metadata": {},
   "source": [
    "#### Question 10: Find the Longest Word\n",
    "##### Write a Python program that finds the longest word in a given string."
   ]
  },
  {
   "cell_type": "code",
   "execution_count": 20,
   "id": "7c237b9f-95c6-4d26-856a-c50a0d9281b7",
   "metadata": {},
   "outputs": [
    {
     "name": "stdout",
     "output_type": "stream",
     "text": [
      "isthesecond\n"
     ]
    }
   ],
   "source": [
    "text = \"Hello, this isthesecond assignment\"\n",
    "split_text = text.split()\n",
    "longest_word = (max(split_text, key = len))\n",
    "print(longest_word)"
   ]
  }
 ],
 "metadata": {
  "kernelspec": {
   "display_name": "Python 3 (ipykernel)",
   "language": "python",
   "name": "python3"
  },
  "language_info": {
   "codemirror_mode": {
    "name": "ipython",
    "version": 3
   },
   "file_extension": ".py",
   "mimetype": "text/x-python",
   "name": "python",
   "nbconvert_exporter": "python",
   "pygments_lexer": "ipython3",
   "version": "3.12.7"
  }
 },
 "nbformat": 4,
 "nbformat_minor": 5
}
