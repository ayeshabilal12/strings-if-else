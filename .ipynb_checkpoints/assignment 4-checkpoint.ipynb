{
 "cells": [
  {
   "cell_type": "markdown",
   "id": "c7b2643a-3ffc-4c35-a914-8ac5b2916984",
   "metadata": {},
   "source": [
    "##### Q1. my_tuple = ( (1, 2, 3), [4, 5, 6], (apple,cherry, banana), [7, 8, 9] )\n",
    "##### • Print all elements from my_tuple on a new line (using for loop)\n",
    "##### • Create a new tuple by concatenating the first and last elements of my_tuple"
   ]
  },
  {
   "cell_type": "code",
   "execution_count": 13,
   "id": "116fd5a1-72a4-49ee-85b4-e3e248ceb4fa",
   "metadata": {},
   "outputs": [
    {
     "name": "stdout",
     "output_type": "stream",
     "text": [
      "(1, 2, 3)\n",
      "[4, 5, 6]\n",
      "('apple', 'banana', 'cherry')\n",
      "[7, 8, 9]\n"
     ]
    }
   ],
   "source": [
    "my_tuple = ( (1, 2, 3),\n",
    "            [4, 5, 6], \n",
    "            ('apple', 'banana', 'cherry'), \n",
    "            [7, 8, 9] )\n",
    "for element in my_tuple:\n",
    "    print(element)"
   ]
  },
  {
   "cell_type": "code",
   "execution_count": 25,
   "id": "1a2a8a67-0b11-45f0-9a6d-45ecd4aea47e",
   "metadata": {},
   "outputs": [
    {
     "name": "stdout",
     "output_type": "stream",
     "text": [
      "(1, 2, 3, 7, 8, 9)\n"
     ]
    }
   ],
   "source": [
    "my_tuple = ( (1, 2, 3),\n",
    "            [4, 5, 6], \n",
    "            ('apple', 'banana', 'cherry'), \n",
    "            [7, 8, 9] )\n",
    "\n",
    "new_tuple = my_tuple[0] + tuple(my_tuple[-1])\n",
    "print(new_tuple)"
   ]
  },
  {
   "cell_type": "markdown",
   "id": "3e784011-08fe-4121-8a7a-186cbff78778",
   "metadata": {},
   "source": [
    "##### Q2. inventory = { \"The Great Gatsby\": {\"price\": 10.99, \"quantity\": 5}, \"Rich dad poor dad\": {\"price\": 8.99, \"quantity\": 8}, \"Harry Potter\": {\"price\": 12.50, \"quantity\": 2}, }\n",
    "##### •\tAdd a new book in inventory using method and get all book titles using method\n",
    "##### •\tRemove a book if it's out of stock"
   ]
  },
  {
   "cell_type": "code",
   "execution_count": 51,
   "id": "cb1f7835-c97d-4375-a7db-e15f2623fac9",
   "metadata": {},
   "outputs": [
    {
     "name": "stdout",
     "output_type": "stream",
     "text": [
      "The Great Gatsby\n",
      "Rich dad poor dad\n",
      "Harry Potter\n",
      "It end with us\n"
     ]
    }
   ],
   "source": [
    "inventory = { \"The Great Gatsby\": {\"price\": 10.99, \"quantity\": 5}, \n",
    "              \"Rich dad poor dad\": {\"price\": 8.99, \"quantity\": 8}, \n",
    "              \"Harry Potter\": {\"price\": 12.50, \"quantity\": 2}, \n",
    "             }\n",
    "inventory[\"It end with us\"] = {\"price\": 10.55, \"quantity\": 0}\n",
    "for key in inventory.keys():\n",
    "    print(key)"
   ]
  },
  {
   "cell_type": "code",
   "execution_count": 81,
   "id": "81ff203e-2748-41ed-bd6e-c3cdf23280a6",
   "metadata": {},
   "outputs": [
    {
     "name": "stdout",
     "output_type": "stream",
     "text": [
      "{'The Great Gatsby': {'price': 10.99, 'quantity': 5}, 'Rich dad poor dad': {'price': 8.99, 'quantity': 8}, 'Harry Potter': {'price': 12.5, 'quantity': 2}}\n"
     ]
    }
   ],
   "source": [
    "inventory = { \"The Great Gatsby\": {\"price\": 10.99, \"quantity\": 5}, \n",
    "              \"Rich dad poor dad\": {\"price\": 8.99, \"quantity\": 8}, \n",
    "              \"Harry Potter\": {\"price\": 12.50, \"quantity\": 2}, \n",
    "             }\n",
    "inventory[\"It end with us\"] = {\"price\": 10.55, \"quantity\": 0}\n",
    "for items, info in list(inventory.items()):\n",
    "    if info['quantity'] == 0:\n",
    "        del inventory[book]\n",
    "print(inventory)"
   ]
  },
  {
   "cell_type": "markdown",
   "id": "748b0126-9b87-4f4c-948f-290d22ee4d22",
   "metadata": {},
   "source": [
    "##### Q3. An ecommerce store stores information about its products in a nested dictionary. The outer dictionary uses product IDs as keys, and the inner dictionary stores product details like name, category, price, and stock quantity.\n",
    "##### products = { 101: {\"name\": \"Laptop\", \"category\": \"Electronics\", \"price\": 1200, \"stock\": 50}, 102: {\"name\": \"Shirt\", \"category\": \"Apparel\", \"price\": 25, \"stock\": 200}, 103: {\"name\": \"Coffee Maker\", \"category\": \"Home Appliances\", \"price\": 80, \"stock\": 30} }\n",
    "##### •\tIncrease the stock of the \"Shirt\" product (add 50 more units)\n",
    "##### •\tAdd a new product (e.g., \"Smartphone\")\n"
   ]
  },
  {
   "cell_type": "code",
   "execution_count": 8,
   "id": "3365484a-96bf-4c0d-99d3-f17e4e2fe7be",
   "metadata": {},
   "outputs": [
    {
     "name": "stdout",
     "output_type": "stream",
     "text": [
      "{101: {'name': 'Laptop', 'category': 'Electronics', 'price': 1200, 'stock': 50}, 102: {'name': 'Shirt', 'category': 'Apparel', 'price': 25, 'stock': 250}, 103: {'name': 'Coffee Maker', 'category': 'Home Appliances', 'price': 80, 'stock': 30}}\n"
     ]
    }
   ],
   "source": [
    "products = {\n",
    "    101: {\"name\": \"Laptop\", \"category\": \"Electronics\", \"price\": 1200, \"stock\": 50},\n",
    "    102: {\"name\": \"Shirt\", \"category\": \"Apparel\", \"price\": 25, \"stock\": 200},\n",
    "    103: {\"name\": \"Coffee Maker\", \"category\": \"Home Appliances\", \"price\": 80, \"stock\": 30}\n",
    "}\n",
    "products [102][\"stock\"] += 50\n",
    "print (products)"
   ]
  },
  {
   "cell_type": "code",
   "execution_count": 16,
   "id": "03e97799-f1a6-4868-ac27-04459c4f5e40",
   "metadata": {},
   "outputs": [
    {
     "name": "stdout",
     "output_type": "stream",
     "text": [
      "{101: {'name': 'Laptop', 'category': 'Electronics', 'price': 1200, 'stock': 50}, 102: {'name': 'Shirt', 'category': 'Apparel', 'price': 25, 'stock': 200}, 103: {'name': 'Coffee Maker', 'category': 'Home Appliances', 'price': 80, 'stock': 30}, 104: {'name': 'SmartPhones', 'category': 'Gadgets', 'price': 8700, 'stock': 250}}\n"
     ]
    }
   ],
   "source": [
    "products = {\n",
    "    101: {\"name\": \"Laptop\", \"category\": \"Electronics\", \"price\": 1200, \"stock\": 50},\n",
    "    102: {\"name\": \"Shirt\", \"category\": \"Apparel\", \"price\": 25, \"stock\": 200},\n",
    "    103: {\"name\": \"Coffee Maker\", \"category\": \"Home Appliances\", \"price\": 80, \"stock\": 30}\n",
    "}\n",
    "products[104] = {\"name\": \"SmartPhones\", \"category\": \"Gadgets\", \"price\": 8700, \"stock\": 250}\n",
    "print(products)"
   ]
  },
  {
   "cell_type": "markdown",
   "id": "b60109ef-f77d-4ebf-95c0-a93db0c792fa",
   "metadata": {},
   "source": [
    "##### Q4. You are given a list that contains some duplicate items. Remove the duplicates by converting the list to a set.\n",
    "##### shopping_list = [\"apple\", \"banana\", \"apple\", \"orange\", \"banana\", \"grape\"]"
   ]
  },
  {
   "cell_type": "code",
   "execution_count": 27,
   "id": "28eb57e6-4a33-43f2-bc2c-bcc038141883",
   "metadata": {},
   "outputs": [
    {
     "name": "stdout",
     "output_type": "stream",
     "text": [
      "['banana', 'orange', 'apple', 'grape']\n"
     ]
    }
   ],
   "source": [
    "shopping_list = [\"apple\", \"banana\", \"apple\", \"orange\", \"banana\", \"grape\"]\n",
    "shopping_list = list(set(shopping_list))\n",
    "print(shopping_list)"
   ]
  },
  {
   "cell_type": "markdown",
   "id": "04d5fde8-a23d-41ff-8afd-10736951086d",
   "metadata": {},
   "source": [
    "##### Q5. You are managing a list of students enrolled in two different courses. You need to perform various set operations to understand the student enrollment. Task: Create two sets: one for students in \"Course A\" and one for students in \"Course B\". Find the students who are in \"Course A\" but not in \"Course B\" (difference). Find students who are only in one of the two courses (symmetric difference). course_a = {\"John\", \"Alice\", \"Bob\", \"David\"} course_b = {\"Alice\", \"Eve\", \"Charlie\", \"David\"}\n",
    "##### •\tFind students who are in Course A but not in Course B (difference)\n",
    "##### •\tFind students who are only in one of the two courses (symmetric difference)"
   ]
  },
  {
   "cell_type": "code",
   "execution_count": 30,
   "id": "8eba8a1a-273e-4fac-be25-198e6e68f499",
   "metadata": {},
   "outputs": [
    {
     "name": "stdout",
     "output_type": "stream",
     "text": [
      "Students in Course A but not in Course B: {'John', 'Bob'}\n"
     ]
    }
   ],
   "source": [
    "course_a = {\"John\", \"Alice\", \"Bob\", \"David\"}\n",
    "course_b = {\"Alice\", \"Eve\", \"Charlie\", \"David\"}\n",
    "only_course_a_students = course_a - course_b\n",
    "print(\"Students in Course A but not in Course B:\", only_course_a_students)"
   ]
  },
  {
   "cell_type": "code",
   "execution_count": 33,
   "id": "84eeead4-6d01-4d29-a70f-0cc770756ea1",
   "metadata": {},
   "outputs": [
    {
     "name": "stdout",
     "output_type": "stream",
     "text": [
      "Students only in one of the two courses: {'Eve', 'John', 'Charlie', 'Bob'}\n"
     ]
    }
   ],
   "source": [
    "course_a = {\"John\", \"Alice\", \"Bob\", \"David\"}\n",
    "course_b = {\"Alice\", \"Eve\", \"Charlie\", \"David\"}\n",
    "only_in_one_course = course_a ^ course_b\n",
    "print(\"Students only in one of the two courses:\", only_in_one_course)"
   ]
  },
  {
   "cell_type": "markdown",
   "id": "65444583-92da-45d1-af03-77d3298154ae",
   "metadata": {},
   "source": [
    "##### Q6. Write a Python program that calculates the sum of all even numbers between 1 and 50 (inclusive) using a for loop.\n",
    "##### Hint\n",
    "##### 1.\tInitialize a variable to hold the sum (e.g., sum_of_evens).\n",
    "##### 2.\tUse a for loop to iterate through all numbers from 1 to 50.\n",
    "##### 3.\tInside the loop, check if the number is even.\n",
    "##### 4.\tIf the number is even, add it to sum_of_evens.\n",
    "##### 5.\tAfter the loop finishes, print the total sum of all even numbers between 1 and 50."
   ]
  },
  {
   "cell_type": "code",
   "execution_count": 36,
   "id": "88928d34-73b0-4d37-b9c5-cd7ce2f53bf0",
   "metadata": {},
   "outputs": [
    {
     "name": "stdout",
     "output_type": "stream",
     "text": [
      "Sum of all even numbers between 1 and 50: 650\n"
     ]
    }
   ],
   "source": [
    "sum_of_evens = 0\n",
    "for number in range(1, 51):\n",
    "    if number % 2 == 0:\n",
    "        sum_of_evens += number\n",
    "print(\"Sum of all even numbers between 1 and 50:\", sum_of_evens)"
   ]
  },
  {
   "cell_type": "markdown",
   "id": "f8d86ad4-583f-4a8c-95d8-74e2ed205dce",
   "metadata": {},
   "source": [
    "##### Q7. Write a Python program that prints the multiplication table for a given number (between 1 and 10) using a for loop.\n",
    "\n",
    "##### Hint:\n",
    "##### 1.\tAsk the user for a number between 1 and 10 .\n",
    "##### 2.\tUse a for loop to iterate through the numbers from 1 to 10.\n",
    "##### 3.\tFor each iteration, calculate the product of the given number and the current number in the loop.\n",
    "##### 4.\tPrint the result in a readable format (e.g., 5 x 1 = 5).\n",
    "##### 5.\tEnsure the program works correctly for any number between 1 and 10."
   ]
  },
  {
   "cell_type": "code",
   "execution_count": 45,
   "id": "46b86166-bb62-4c8d-b62d-2654a8f70f2b",
   "metadata": {},
   "outputs": [
    {
     "name": "stdin",
     "output_type": "stream",
     "text": [
      "Enter a number between 1 and 10:  9\n"
     ]
    },
    {
     "name": "stdout",
     "output_type": "stream",
     "text": [
      "9 x 1 = 9\n",
      "9 x 2 = 18\n",
      "9 x 3 = 27\n",
      "9 x 4 = 36\n",
      "9 x 5 = 45\n",
      "9 x 6 = 54\n",
      "9 x 7 = 63\n",
      "9 x 8 = 72\n",
      "9 x 9 = 81\n",
      "9 x 10 = 90\n"
     ]
    }
   ],
   "source": [
    "number = int(input(\"Enter a number between 1 and 10: \"))\n",
    "if 1 <= number <= 10:\n",
    "    for i in range(1, 11):\n",
    "        print(f\"{number} x {i} = {number * i}\")\n",
    "else:\n",
    "    print(\"Please enter a number between 1 and 10.\")"
   ]
  },
  {
   "cell_type": "markdown",
   "id": "8176fff5-6fbb-4582-bd24-e884458bbb61",
   "metadata": {},
   "source": [
    "##### Q8. Power of a Number\n",
    "##### Write a Python program that takes a number and prints the powers of the number (starting from 1 to 10) using a while loop. For example, if the user inputs 3, the output should be:\n",
    "##### 3^1 = 3\n",
    "##### 3^2 = 9\n",
    "##### 3^3 = 27\n",
    "##### ... up to 3^10.\n"
   ]
  },
  {
   "cell_type": "code",
   "execution_count": 51,
   "id": "d64f76a3-f1c6-47d2-8d75-41cc97a8c72f",
   "metadata": {},
   "outputs": [
    {
     "name": "stdin",
     "output_type": "stream",
     "text": [
      "Enter a number:  2\n"
     ]
    },
    {
     "name": "stdout",
     "output_type": "stream",
     "text": [
      "2^1 = 2\n",
      "2^2 = 4\n",
      "2^3 = 8\n",
      "2^4 = 16\n",
      "2^5 = 32\n",
      "2^6 = 64\n",
      "2^7 = 128\n",
      "2^8 = 256\n",
      "2^9 = 512\n",
      "2^10 = 1024\n"
     ]
    }
   ],
   "source": [
    "number = int(input(\"Enter a number: \"))\n",
    "i = 1\n",
    "while i <= 10:\n",
    "    print(f\"{number}^{i} = {number ** i}\")\n",
    "    i += 1"
   ]
  },
  {
   "cell_type": "markdown",
   "id": "7e7fa64d-3772-467e-bf90-fb4448d453a2",
   "metadata": {},
   "source": [
    "##### Q9.  Problem Statement: Write a Python program that takes an integer input from the user and counts down from that number to 0. \n",
    "##### The program should display the current number at each step until it reaches 0, at which point it should print a message indicating the countdown is finished"
   ]
  },
  {
   "cell_type": "code",
   "execution_count": 60,
   "id": "4e1d2c55-a790-4015-9812-9f5c3cee523d",
   "metadata": {},
   "outputs": [
    {
     "name": "stdin",
     "output_type": "stream",
     "text": [
      "Enter a number to start the countdown:  8\n"
     ]
    },
    {
     "name": "stdout",
     "output_type": "stream",
     "text": [
      "8\n",
      "7\n",
      "6\n",
      "5\n",
      "4\n",
      "3\n",
      "2\n",
      "1\n",
      "0\n",
      "Countdown finished!\n"
     ]
    }
   ],
   "source": [
    "number = int(input(\"Enter a number to start the countdown: \"))\n",
    "while number >= 0:\n",
    "    print(number)\n",
    "    number -= 1\n",
    "print(\"Countdown finished!\")"
   ]
  },
  {
   "cell_type": "markdown",
   "id": "2f45de23-7c9b-484d-a485-3ed9098093ed",
   "metadata": {},
   "source": [
    "##### Q10. Write a Python program that takes an integer input n from the user and generates a right-angled triangle pattern of stars (*) with n rows. The first row should contain 1 star, the second row 2 stars, the third row 3 stars, and so on until the nth row.\n",
    "##### Ensure the stars in each row are separated by spaces, and each row starts on a new line.\n",
    "##### # Pattern:\n",
    "##### *\n",
    "##### **\n",
    "##### ***\n",
    "##### ****\n",
    "##### *****\n"
   ]
  },
  {
   "cell_type": "code",
   "execution_count": 65,
   "id": "2be6b4d1-c1ea-4043-9629-be68309e7fbe",
   "metadata": {},
   "outputs": [
    {
     "name": "stdin",
     "output_type": "stream",
     "text": [
      "Enter the number of rows for the triangle:  5\n"
     ]
    },
    {
     "name": "stdout",
     "output_type": "stream",
     "text": [
      "*\n",
      "* *\n",
      "* * *\n",
      "* * * *\n",
      "* * * * *\n"
     ]
    }
   ],
   "source": [
    "n = int(input(\"Enter the number of rows for the triangle: \"))\n",
    "for i in range(1, n + 1):\n",
    "    print(\" \".join([\"*\"] * i))"
   ]
  },
  {
   "cell_type": "code",
   "execution_count": null,
   "id": "9e639e19-81cb-49cd-a2a2-c0c159fdad55",
   "metadata": {},
   "outputs": [],
   "source": []
  }
 ],
 "metadata": {
  "kernelspec": {
   "display_name": "Python 3 (ipykernel)",
   "language": "python",
   "name": "python3"
  },
  "language_info": {
   "codemirror_mode": {
    "name": "ipython",
    "version": 3
   },
   "file_extension": ".py",
   "mimetype": "text/x-python",
   "name": "python",
   "nbconvert_exporter": "python",
   "pygments_lexer": "ipython3",
   "version": "3.12.7"
  }
 },
 "nbformat": 4,
 "nbformat_minor": 5
}
