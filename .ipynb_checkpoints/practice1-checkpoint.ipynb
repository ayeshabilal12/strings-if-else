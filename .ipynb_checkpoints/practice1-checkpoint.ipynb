{
 "cells": [
  {
   "cell_type": "code",
   "execution_count": null,
   "id": "5e5436ee-5184-4da7-a954-f1c574dbee13",
   "metadata": {},
   "outputs": [],
   "source": [
    "5 value user marks get\n",
    "total 500\n",
    "per%\n",
    "Grade\n",
    " \n",
    " \n",
    "your per is 60%"
   ]
  },
  {
   "cell_type": "code",
   "execution_count": null,
   "id": "dc0b0299-48d5-4a20-a5f0-f012f01b204d",
   "metadata": {},
   "outputs": [],
   "source": [
    "marks_math = int(input(\"Enter Math marks: \"))\n",
    "marks_english = int(input(\"Enter English marks: \"))\n",
    "marks_history = int(input(\"Enter History marks: \"))\n",
    "marks_science = int(input(\"Enter Science marks: \"))\n",
    "marks_geo = int(input(\"Enter Geography marks: \"))\n",
    "print(\"=========================================\")\n",
    "print(\"                Marksheet                \")\n",
    "print(\"=========================================\")\n",
    "marks_obtained = (marks_math+marks_english+marks_history+marks_science+marks_geo)\n",
    "percentage = ((marks_obtained/500)*100)\n",
    "print (\"\\nTotal Marks Obtained: \", marks_obtained, \".\")\n",
    "print (\"\\nYour Percentage is: \", percentage, \"%,\")\n",
    "if percentage > 80:\n",
    "    print(\"Your Grade is A-1.\")\n",
    "elif percentage <= 80 and percentage > 70:\n",
    "    print(\"Your Grade is A.\")\n",
    "elif percentage <= 70 and percentage > 60:\n",
    "    print(\"Your Grade is B.\")\n",
    "elif percentage <= 60 and percentage > 50:\n",
    "    print(\"Your Grade is C.\")\n",
    "elif percentage <= 50 and percentage > 40:\n",
    "    print(\"Your Grade is D.\")\n",
    "else:\n",
    "    print(\"\\nYou've Failed.\")"
   ]
  }
 ],
 "metadata": {
  "kernelspec": {
   "display_name": "Python 3 (ipykernel)",
   "language": "python",
   "name": "python3"
  },
  "language_info": {
   "codemirror_mode": {
    "name": "ipython",
    "version": 3
   },
   "file_extension": ".py",
   "mimetype": "text/x-python",
   "name": "python",
   "nbconvert_exporter": "python",
   "pygments_lexer": "ipython3",
   "version": "3.12.7"
  }
 },
 "nbformat": 4,
 "nbformat_minor": 5
}
