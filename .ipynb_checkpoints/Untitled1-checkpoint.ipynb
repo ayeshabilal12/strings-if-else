{
 "cells": [
  {
   "cell_type": "code",
   "execution_count": 5,
   "id": "75f2d502-108a-4c65-8ba5-349b13561b14",
   "metadata": {},
   "outputs": [
    {
     "name": "stdin",
     "output_type": "stream",
     "text": [
      "Enter your age:  44\n"
     ]
    },
    {
     "name": "stdout",
     "output_type": "stream",
     "text": [
      "Your age is  44 .\n"
     ]
    }
   ],
   "source": [
    "age = int (input(\"Enter your age: \"))\n",
    "print(\"Your age is \", age, \".\")\n",
    "\n",
    "if age >= 0 and age <= 12:\n",
    "    print (\"You are a child. \")"
   ]
  },
  {
   "cell_type": "code",
   "execution_count": 9,
   "id": "907371df-73fe-4a87-89a1-eaf9e8f4f087",
   "metadata": {},
   "outputs": [
    {
     "name": "stdin",
     "output_type": "stream",
     "text": [
      "Enter your Membership Status:  Premium\n",
      "Enter your purchased amount: 875\n"
     ]
    },
    {
     "name": "stdout",
     "output_type": "stream",
     "text": [
      "You are not eligible for discount.\n"
     ]
    }
   ],
   "source": [
    "member_status = input (\"Enter your Membership Status: \")\n",
    "purchase_amount = int(input(\"Enter your purchased amount:\"))\n",
    "\n",
    "if member_status == \"Premium\" and purchase_amount >= 1000:\n",
    "    print (\"Eligible for discount.\")\n",
    "elif member_status == \"Regular\" and purchase_amount >= 2000:\n",
    "    print (\"Eligible for discount.\")\n",
    "else:\n",
    "    print(\"You are not eligible for discount.\")"
   ]
  },
  {
   "cell_type": "code",
   "execution_count": 13,
   "id": "e109c151-e7b8-456c-a741-5e46d001d4de",
   "metadata": {},
   "outputs": [
    {
     "name": "stdin",
     "output_type": "stream",
     "text": [
      "Enter your age:  13\n",
      "Enter your citizenship status:  citizen\n"
     ]
    },
    {
     "name": "stdout",
     "output_type": "stream",
     "text": [
      "Not eligible to vote.\n"
     ]
    }
   ],
   "source": [
    "age = int(input(\"Enter your age: \"))\n",
    "ctzn = str(input(\"Enter your citizenship status: \"))\n",
    "\n",
    "if age >= 18 and ctzn == \"citizen\":\n",
    "    print(\"Eligible to vote.\")\n",
    "elif age >= 18 and ctzn == \"citizen\":\n",
    "    print(\"Eligible to vote.\")\n",
    "elif age >= 16 and ctzn == \"special region\":\n",
    "    print(\"Eligible to vote.\")\n",
    "else:\n",
    "    print(\"Not eligible to vote.\")"
   ]
  },
  {
   "cell_type": "code",
   "execution_count": null,
   "id": "0f1524c2-d181-44f2-9a04-2b9783224d15",
   "metadata": {},
   "outputs": [],
   "source": []
  }
 ],
 "metadata": {
  "kernelspec": {
   "display_name": "Python 3 (ipykernel)",
   "language": "python",
   "name": "python3"
  },
  "language_info": {
   "codemirror_mode": {
    "name": "ipython",
    "version": 3
   },
   "file_extension": ".py",
   "mimetype": "text/x-python",
   "name": "python",
   "nbconvert_exporter": "python",
   "pygments_lexer": "ipython3",
   "version": "3.12.7"
  }
 },
 "nbformat": 4,
 "nbformat_minor": 5
}
